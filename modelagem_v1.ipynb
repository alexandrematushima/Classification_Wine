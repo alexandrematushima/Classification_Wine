{
 "cells": [
  {
   "cell_type": "code",
   "execution_count": 1,
   "metadata": {},
   "outputs": [],
   "source": [
    "import sklearn as sl\n",
    "import pandas as pd\n",
    "import numpy as np\n",
    "import seaborn as sns\n",
    "import matplotlib.pyplot as plt\n",
    "from collections import Counter\n",
    "from sklearn.preprocessing import MinMaxScaler\n",
    "from sklearn.decomposition import PCA\n",
    "from sklearn.metrics import balanced_accuracy_score\n",
    "from sklearn.metrics import accuracy_score\n",
    "from sklearn.metrics import confusion_matrix\n",
    "from sklearn.linear_model import LogisticRegression\n",
    "from sklearn.neighbors import KNeighborsClassifier\n",
    "from sklearn.tree import DecisionTreeClassifier\n",
    "from sklearn.naive_bayes import GaussianNB\n",
    "from sklearn.ensemble import RandomForestClassifier\n",
    "from sklearn.svm import SVC\n",
    "from sklearn.model_selection import train_test_split\n",
    "from sklearn.model_selection import RandomizedSearchCV\n",
    "from sklearn.model_selection import GridSearchCV\n",
    "from sklearn.model_selection import KFold\n",
    "from sklearn.model_selection import cross_val_score\n",
    "from sklearn.ensemble import BaggingClassifier\n",
    "from sklearn.ensemble import AdaBoostClassifier\n",
    "from sklearn.ensemble import GradientBoostingClassifier\n",
    "from xgboost import XGBClassifier\n",
    "import warnings\n",
    "warnings.filterwarnings(\"ignore\")"
   ]
  },
  {
   "cell_type": "markdown",
   "metadata": {},
   "source": [
    "### Carregamento dos dados"
   ]
  },
  {
   "cell_type": "code",
   "execution_count": 2,
   "metadata": {},
   "outputs": [],
   "source": [
    "arquivo = 'dados/winequality.csv'\n",
    "colunas = ['tipo', 'acidFixa', 'volatAcidez', 'acidoCitrico' , 'acucarResid', 'cloretos', 'dioxEnxLivre', 'dioxEnxTot', 'densidade', 'pH', 'sulfatos', 'alcool', 'qualidade']\n",
    "dados = pd.read_csv(arquivo, sep = ';',  header = 0, names = colunas)"
   ]
  },
  {
   "cell_type": "code",
   "execution_count": 3,
   "metadata": {},
   "outputs": [
    {
     "data": {
      "text/plain": [
       "(6497, 13)"
      ]
     },
     "execution_count": 3,
     "metadata": {},
     "output_type": "execute_result"
    }
   ],
   "source": [
    "dados.shape"
   ]
  },
  {
   "cell_type": "code",
   "execution_count": 4,
   "metadata": {},
   "outputs": [
    {
     "data": {
      "text/plain": [
       "tipo             object\n",
       "acidFixa        float64\n",
       "volatAcidez     float64\n",
       "acidoCitrico    float64\n",
       "acucarResid     float64\n",
       "cloretos        float64\n",
       "dioxEnxLivre    float64\n",
       "dioxEnxTot      float64\n",
       "densidade       float64\n",
       "pH              float64\n",
       "sulfatos        float64\n",
       "alcool           object\n",
       "qualidade         int64\n",
       "dtype: object"
      ]
     },
     "execution_count": 4,
     "metadata": {},
     "output_type": "execute_result"
    }
   ],
   "source": [
    "dados.dtypes"
   ]
  },
  {
   "cell_type": "code",
   "execution_count": 5,
   "metadata": {},
   "outputs": [
    {
     "data": {
      "text/html": [
       "<div>\n",
       "<style scoped>\n",
       "    .dataframe tbody tr th:only-of-type {\n",
       "        vertical-align: middle;\n",
       "    }\n",
       "\n",
       "    .dataframe tbody tr th {\n",
       "        vertical-align: top;\n",
       "    }\n",
       "\n",
       "    .dataframe thead th {\n",
       "        text-align: right;\n",
       "    }\n",
       "</style>\n",
       "<table border=\"1\" class=\"dataframe\">\n",
       "  <thead>\n",
       "    <tr style=\"text-align: right;\">\n",
       "      <th></th>\n",
       "      <th>tipo</th>\n",
       "      <th>acidFixa</th>\n",
       "      <th>volatAcidez</th>\n",
       "      <th>acidoCitrico</th>\n",
       "      <th>acucarResid</th>\n",
       "      <th>cloretos</th>\n",
       "      <th>dioxEnxLivre</th>\n",
       "      <th>dioxEnxTot</th>\n",
       "      <th>densidade</th>\n",
       "      <th>pH</th>\n",
       "      <th>sulfatos</th>\n",
       "      <th>alcool</th>\n",
       "      <th>qualidade</th>\n",
       "    </tr>\n",
       "  </thead>\n",
       "  <tbody>\n",
       "    <tr>\n",
       "      <th>0</th>\n",
       "      <td>White</td>\n",
       "      <td>7.0</td>\n",
       "      <td>0.27</td>\n",
       "      <td>0.36</td>\n",
       "      <td>20.7</td>\n",
       "      <td>0.045</td>\n",
       "      <td>45.0</td>\n",
       "      <td>170.0</td>\n",
       "      <td>1.0010</td>\n",
       "      <td>3.00</td>\n",
       "      <td>0.45</td>\n",
       "      <td>8.8</td>\n",
       "      <td>6</td>\n",
       "    </tr>\n",
       "    <tr>\n",
       "      <th>1</th>\n",
       "      <td>White</td>\n",
       "      <td>6.3</td>\n",
       "      <td>0.30</td>\n",
       "      <td>0.34</td>\n",
       "      <td>1.6</td>\n",
       "      <td>0.049</td>\n",
       "      <td>14.0</td>\n",
       "      <td>132.0</td>\n",
       "      <td>0.9940</td>\n",
       "      <td>3.30</td>\n",
       "      <td>0.49</td>\n",
       "      <td>9.5</td>\n",
       "      <td>6</td>\n",
       "    </tr>\n",
       "    <tr>\n",
       "      <th>2</th>\n",
       "      <td>White</td>\n",
       "      <td>8.1</td>\n",
       "      <td>0.28</td>\n",
       "      <td>0.40</td>\n",
       "      <td>6.9</td>\n",
       "      <td>0.050</td>\n",
       "      <td>30.0</td>\n",
       "      <td>97.0</td>\n",
       "      <td>0.9951</td>\n",
       "      <td>3.26</td>\n",
       "      <td>0.44</td>\n",
       "      <td>10.1</td>\n",
       "      <td>6</td>\n",
       "    </tr>\n",
       "    <tr>\n",
       "      <th>3</th>\n",
       "      <td>White</td>\n",
       "      <td>7.2</td>\n",
       "      <td>0.23</td>\n",
       "      <td>0.32</td>\n",
       "      <td>8.5</td>\n",
       "      <td>0.058</td>\n",
       "      <td>47.0</td>\n",
       "      <td>186.0</td>\n",
       "      <td>0.9956</td>\n",
       "      <td>3.19</td>\n",
       "      <td>0.40</td>\n",
       "      <td>9.9</td>\n",
       "      <td>6</td>\n",
       "    </tr>\n",
       "    <tr>\n",
       "      <th>4</th>\n",
       "      <td>White</td>\n",
       "      <td>7.2</td>\n",
       "      <td>0.23</td>\n",
       "      <td>0.32</td>\n",
       "      <td>8.5</td>\n",
       "      <td>0.058</td>\n",
       "      <td>47.0</td>\n",
       "      <td>186.0</td>\n",
       "      <td>0.9956</td>\n",
       "      <td>3.19</td>\n",
       "      <td>0.40</td>\n",
       "      <td>9.9</td>\n",
       "      <td>6</td>\n",
       "    </tr>\n",
       "  </tbody>\n",
       "</table>\n",
       "</div>"
      ],
      "text/plain": [
       "    tipo  acidFixa  volatAcidez  acidoCitrico  acucarResid  cloretos  \\\n",
       "0  White       7.0         0.27          0.36         20.7     0.045   \n",
       "1  White       6.3         0.30          0.34          1.6     0.049   \n",
       "2  White       8.1         0.28          0.40          6.9     0.050   \n",
       "3  White       7.2         0.23          0.32          8.5     0.058   \n",
       "4  White       7.2         0.23          0.32          8.5     0.058   \n",
       "\n",
       "   dioxEnxLivre  dioxEnxTot  densidade    pH  sulfatos alcool  qualidade  \n",
       "0          45.0       170.0     1.0010  3.00      0.45    8.8          6  \n",
       "1          14.0       132.0     0.9940  3.30      0.49    9.5          6  \n",
       "2          30.0        97.0     0.9951  3.26      0.44   10.1          6  \n",
       "3          47.0       186.0     0.9956  3.19      0.40    9.9          6  \n",
       "4          47.0       186.0     0.9956  3.19      0.40    9.9          6  "
      ]
     },
     "execution_count": 5,
     "metadata": {},
     "output_type": "execute_result"
    }
   ],
   "source": [
    "dados.head()"
   ]
  },
  {
   "cell_type": "markdown",
   "metadata": {},
   "source": [
    "### Tratamento dos dados"
   ]
  },
  {
   "cell_type": "code",
   "execution_count": 6,
   "metadata": {},
   "outputs": [
    {
     "data": {
      "text/plain": [
       "False"
      ]
     },
     "execution_count": 6,
     "metadata": {},
     "output_type": "execute_result"
    }
   ],
   "source": [
    "dados.isnull().values.any() "
   ]
  },
  {
   "cell_type": "code",
   "execution_count": 7,
   "metadata": {},
   "outputs": [],
   "source": [
    "dados.drop_duplicates(keep='first',inplace=True) "
   ]
  },
  {
   "cell_type": "code",
   "execution_count": 8,
   "metadata": {},
   "outputs": [
    {
     "data": {
      "text/plain": [
       "(5320, 13)"
      ]
     },
     "execution_count": 8,
     "metadata": {},
     "output_type": "execute_result"
    }
   ],
   "source": [
    "dados.shape"
   ]
  },
  {
   "cell_type": "code",
   "execution_count": 9,
   "metadata": {},
   "outputs": [],
   "source": [
    "tipoVinho = []\n",
    "for i in dados['tipo']:\n",
    "    if i == 'Red':\n",
    "        tipoVinho.append(1)\n",
    "    elif i == 'White':\n",
    "        tipoVinho.append(2)\n",
    "dados.insert (1, \"TipoVinho\", tipoVinho)"
   ]
  },
  {
   "cell_type": "code",
   "execution_count": 10,
   "metadata": {},
   "outputs": [
    {
     "data": {
      "text/plain": [
       "<matplotlib.axes._subplots.AxesSubplot at 0x24ef63b8f28>"
      ]
     },
     "execution_count": 10,
     "metadata": {},
     "output_type": "execute_result"
    },
    {
     "data": {
      "image/png": "[encoded data removed]",
      "text/plain": [
       "<Figure size 432x288 with 1 Axes>"
      ]
     },
     "metadata": {
      "needs_background": "light"
     },
     "output_type": "display_data"
    }
   ],
   "source": [
    "sns.countplot(x='qualidade', data=dados)"
   ]
  },
  {
   "cell_type": "code",
   "execution_count": 11,
   "metadata": {},
   "outputs": [
    {
     "data": {
      "text/plain": [
       "Counter({6: 2323, 5: 1752, 7: 856, 8: 148, 4: 206, 3: 30, 9: 5})"
      ]
     },
     "execution_count": 11,
     "metadata": {},
     "output_type": "execute_result"
    }
   ],
   "source": [
    "Counter(dados['qualidade'])"
   ]
  },
  {
   "cell_type": "code",
   "execution_count": 12,
   "metadata": {},
   "outputs": [],
   "source": [
    "qualidadeAgrup = []\n",
    "for i in dados['qualidade']:\n",
    "    if i >= 0 and i <= 5:\n",
    "        qualidadeAgrup.append(1)\n",
    "    elif i >= 6 and i <= 10:\n",
    "        qualidadeAgrup.append(2)\n",
    "dados.insert (13, \"qualidadeAgrup\", qualidadeAgrup) "
   ]
  },
  {
   "cell_type": "code",
   "execution_count": 13,
   "metadata": {},
   "outputs": [
    {
     "data": {
      "text/plain": [
       "<matplotlib.axes._subplots.AxesSubplot at 0x24ef62cd780>"
      ]
     },
     "execution_count": 13,
     "metadata": {},
     "output_type": "execute_result"
    },
    {
     "data": {
      "image/png": "[encoded data removed]",
      "text/plain": [
       "<Figure size 432x288 with 1 Axes>"
      ]
     },
     "metadata": {
      "needs_background": "light"
     },
     "output_type": "display_data"
    }
   ],
   "source": [
    "sns.countplot(x='qualidadeAgrup', data=dados)"
   ]
  },
  {
   "cell_type": "code",
   "execution_count": 14,
   "metadata": {},
   "outputs": [
    {
     "data": {
      "text/plain": [
       "tipo               object\n",
       "TipoVinho           int64\n",
       "acidFixa          float64\n",
       "volatAcidez       float64\n",
       "acidoCitrico      float64\n",
       "acucarResid       float64\n",
       "cloretos          float64\n",
       "dioxEnxLivre      float64\n",
       "dioxEnxTot        float64\n",
       "densidade         float64\n",
       "pH                float64\n",
       "sulfatos          float64\n",
       "alcool             object\n",
       "qualidadeAgrup      int64\n",
       "qualidade           int64\n",
       "dtype: object"
      ]
     },
     "execution_count": 14,
     "metadata": {},
     "output_type": "execute_result"
    }
   ],
   "source": [
    "dados.dtypes"
   ]
  },
  {
   "cell_type": "code",
   "execution_count": 15,
   "metadata": {},
   "outputs": [
    {
     "data": {
      "text/html": [
       "<div>\n",
       "<style scoped>\n",
       "    .dataframe tbody tr th:only-of-type {\n",
       "        vertical-align: middle;\n",
       "    }\n",
       "\n",
       "    .dataframe tbody tr th {\n",
       "        vertical-align: top;\n",
       "    }\n",
       "\n",
       "    .dataframe thead th {\n",
       "        text-align: right;\n",
       "    }\n",
       "</style>\n",
       "<table border=\"1\" class=\"dataframe\">\n",
       "  <thead>\n",
       "    <tr style=\"text-align: right;\">\n",
       "      <th></th>\n",
       "      <th>tipo</th>\n",
       "      <th>TipoVinho</th>\n",
       "      <th>acidFixa</th>\n",
       "      <th>volatAcidez</th>\n",
       "      <th>acidoCitrico</th>\n",
       "      <th>acucarResid</th>\n",
       "      <th>cloretos</th>\n",
       "      <th>dioxEnxLivre</th>\n",
       "      <th>dioxEnxTot</th>\n",
       "      <th>densidade</th>\n",
       "      <th>pH</th>\n",
       "      <th>sulfatos</th>\n",
       "      <th>alcool</th>\n",
       "      <th>qualidadeAgrup</th>\n",
       "      <th>qualidade</th>\n",
       "    </tr>\n",
       "  </thead>\n",
       "  <tbody>\n",
       "    <tr>\n",
       "      <th>0</th>\n",
       "      <td>White</td>\n",
       "      <td>2</td>\n",
       "      <td>7.0</td>\n",
       "      <td>0.27</td>\n",
       "      <td>0.36</td>\n",
       "      <td>20.7</td>\n",
       "      <td>0.045</td>\n",
       "      <td>45.0</td>\n",
       "      <td>170.0</td>\n",
       "      <td>1.0010</td>\n",
       "      <td>3.00</td>\n",
       "      <td>0.45</td>\n",
       "      <td>8.8</td>\n",
       "      <td>2</td>\n",
       "      <td>6</td>\n",
       "    </tr>\n",
       "    <tr>\n",
       "      <th>1</th>\n",
       "      <td>White</td>\n",
       "      <td>2</td>\n",
       "      <td>6.3</td>\n",
       "      <td>0.30</td>\n",
       "      <td>0.34</td>\n",
       "      <td>1.6</td>\n",
       "      <td>0.049</td>\n",
       "      <td>14.0</td>\n",
       "      <td>132.0</td>\n",
       "      <td>0.9940</td>\n",
       "      <td>3.30</td>\n",
       "      <td>0.49</td>\n",
       "      <td>9.5</td>\n",
       "      <td>2</td>\n",
       "      <td>6</td>\n",
       "    </tr>\n",
       "    <tr>\n",
       "      <th>2</th>\n",
       "      <td>White</td>\n",
       "      <td>2</td>\n",
       "      <td>8.1</td>\n",
       "      <td>0.28</td>\n",
       "      <td>0.40</td>\n",
       "      <td>6.9</td>\n",
       "      <td>0.050</td>\n",
       "      <td>30.0</td>\n",
       "      <td>97.0</td>\n",
       "      <td>0.9951</td>\n",
       "      <td>3.26</td>\n",
       "      <td>0.44</td>\n",
       "      <td>10.1</td>\n",
       "      <td>2</td>\n",
       "      <td>6</td>\n",
       "    </tr>\n",
       "    <tr>\n",
       "      <th>3</th>\n",
       "      <td>White</td>\n",
       "      <td>2</td>\n",
       "      <td>7.2</td>\n",
       "      <td>0.23</td>\n",
       "      <td>0.32</td>\n",
       "      <td>8.5</td>\n",
       "      <td>0.058</td>\n",
       "      <td>47.0</td>\n",
       "      <td>186.0</td>\n",
       "      <td>0.9956</td>\n",
       "      <td>3.19</td>\n",
       "      <td>0.40</td>\n",
       "      <td>9.9</td>\n",
       "      <td>2</td>\n",
       "      <td>6</td>\n",
       "    </tr>\n",
       "    <tr>\n",
       "      <th>6</th>\n",
       "      <td>White</td>\n",
       "      <td>2</td>\n",
       "      <td>6.2</td>\n",
       "      <td>0.32</td>\n",
       "      <td>0.16</td>\n",
       "      <td>7.0</td>\n",
       "      <td>0.045</td>\n",
       "      <td>30.0</td>\n",
       "      <td>136.0</td>\n",
       "      <td>0.9949</td>\n",
       "      <td>3.18</td>\n",
       "      <td>0.47</td>\n",
       "      <td>9.6</td>\n",
       "      <td>2</td>\n",
       "      <td>6</td>\n",
       "    </tr>\n",
       "  </tbody>\n",
       "</table>\n",
       "</div>"
      ],
      "text/plain": [
       "    tipo  TipoVinho  acidFixa  volatAcidez  acidoCitrico  acucarResid  \\\n",
       "0  White          2       7.0         0.27          0.36         20.7   \n",
       "1  White          2       6.3         0.30          0.34          1.6   \n",
       "2  White          2       8.1         0.28          0.40          6.9   \n",
       "3  White          2       7.2         0.23          0.32          8.5   \n",
       "6  White          2       6.2         0.32          0.16          7.0   \n",
       "\n",
       "   cloretos  dioxEnxLivre  dioxEnxTot  densidade    pH  sulfatos alcool  \\\n",
       "0     0.045          45.0       170.0     1.0010  3.00      0.45    8.8   \n",
       "1     0.049          14.0       132.0     0.9940  3.30      0.49    9.5   \n",
       "2     0.050          30.0        97.0     0.9951  3.26      0.44   10.1   \n",
       "3     0.058          47.0       186.0     0.9956  3.19      0.40    9.9   \n",
       "6     0.045          30.0       136.0     0.9949  3.18      0.47    9.6   \n",
       "\n",
       "   qualidadeAgrup  qualidade  \n",
       "0               2          6  \n",
       "1               2          6  \n",
       "2               2          6  \n",
       "3               2          6  \n",
       "6               2          6  "
      ]
     },
     "execution_count": 15,
     "metadata": {},
     "output_type": "execute_result"
    }
   ],
   "source": [
    "dados.head()"
   ]
  },
  {
   "cell_type": "code",
   "execution_count": 16,
   "metadata": {},
   "outputs": [
    {
     "data": {
      "text/html": [
       "<div>\n",
       "<style scoped>\n",
       "    .dataframe tbody tr th:only-of-type {\n",
       "        vertical-align: middle;\n",
       "    }\n",
       "\n",
       "    .dataframe tbody tr th {\n",
       "        vertical-align: top;\n",
       "    }\n",
       "\n",
       "    .dataframe thead th {\n",
       "        text-align: right;\n",
       "    }\n",
       "</style>\n",
       "<table border=\"1\" class=\"dataframe\">\n",
       "  <thead>\n",
       "    <tr style=\"text-align: right;\">\n",
       "      <th></th>\n",
       "      <th>tipo</th>\n",
       "      <th>alcool</th>\n",
       "    </tr>\n",
       "  </thead>\n",
       "  <tbody>\n",
       "    <tr>\n",
       "      <th>4315</th>\n",
       "      <td>White</td>\n",
       "      <td>128.933.333.333.333</td>\n",
       "    </tr>\n",
       "    <tr>\n",
       "      <th>4323</th>\n",
       "      <td>White</td>\n",
       "      <td>114.666.666.666.667</td>\n",
       "    </tr>\n",
       "    <tr>\n",
       "      <th>4341</th>\n",
       "      <td>White</td>\n",
       "      <td>100.333.333.333.333</td>\n",
       "    </tr>\n",
       "    <tr>\n",
       "      <th>4353</th>\n",
       "      <td>White</td>\n",
       "      <td>114.333.333.333.333</td>\n",
       "    </tr>\n",
       "    <tr>\n",
       "      <th>4356</th>\n",
       "      <td>White</td>\n",
       "      <td>105.333.333.333.333</td>\n",
       "    </tr>\n",
       "  </tbody>\n",
       "</table>\n",
       "</div>"
      ],
      "text/plain": [
       "       tipo               alcool\n",
       "4315  White  128.933.333.333.333\n",
       "4323  White  114.666.666.666.667\n",
       "4341  White  100.333.333.333.333\n",
       "4353  White  114.333.333.333.333\n",
       "4356  White  105.333.333.333.333"
      ]
     },
     "execution_count": 16,
     "metadata": {},
     "output_type": "execute_result"
    }
   ],
   "source": [
    "dados_sujos = dados[dados['alcool'].str.contains('111.|222.|333.|444.|555.|666.|777.|888.|999.')]\n",
    "dados_sujos[['tipo','alcool']].head()"
   ]
  },
  {
   "cell_type": "code",
   "execution_count": 17,
   "metadata": {},
   "outputs": [
    {
     "data": {
      "text/plain": [
       "(32, 15)"
      ]
     },
     "execution_count": 17,
     "metadata": {},
     "output_type": "execute_result"
    }
   ],
   "source": [
    "dados_sujos.shape"
   ]
  },
  {
   "cell_type": "code",
   "execution_count": 18,
   "metadata": {},
   "outputs": [],
   "source": [
    "dados_limpos = dados[~dados['alcool'].str.contains('111.|222.|333.|444.|555.|666.|777.|888.|999.')]"
   ]
  },
  {
   "cell_type": "code",
   "execution_count": 19,
   "metadata": {},
   "outputs": [
    {
     "data": {
      "text/plain": [
       "(5288, 15)"
      ]
     },
     "execution_count": 19,
     "metadata": {},
     "output_type": "execute_result"
    }
   ],
   "source": [
    "dados_limpos.shape"
   ]
  },
  {
   "cell_type": "code",
   "execution_count": 20,
   "metadata": {},
   "outputs": [],
   "source": [
    "dados_limpos['alcool'] = dados_limpos['alcool'].astype(float)"
   ]
  },
  {
   "cell_type": "code",
   "execution_count": 21,
   "metadata": {},
   "outputs": [
    {
     "data": {
      "text/plain": [
       "<matplotlib.axes._subplots.AxesSubplot at 0x24ef649aac8>"
      ]
     },
     "execution_count": 21,
     "metadata": {},
     "output_type": "execute_result"
    },
    {
     "data": {
      "image/png": "[encoded data removed]",
      "text/plain": [
       "<Figure size 432x288 with 1 Axes>"
      ]
     },
     "metadata": {
      "needs_background": "light"
     },
     "output_type": "display_data"
    }
   ],
   "source": [
    "sns.boxplot('tipo', 'alcool', data = dados_limpos)"
   ]
  },
  {
   "cell_type": "code",
   "execution_count": 22,
   "metadata": {},
   "outputs": [
    {
     "data": {
      "text/html": [
       "<div>\n",
       "<style scoped>\n",
       "    .dataframe tbody tr th:only-of-type {\n",
       "        vertical-align: middle;\n",
       "    }\n",
       "\n",
       "    .dataframe tbody tr th {\n",
       "        vertical-align: top;\n",
       "    }\n",
       "\n",
       "    .dataframe thead th {\n",
       "        text-align: right;\n",
       "    }\n",
       "</style>\n",
       "<table border=\"1\" class=\"dataframe\">\n",
       "  <thead>\n",
       "    <tr style=\"text-align: right;\">\n",
       "      <th></th>\n",
       "      <th>TipoVinho</th>\n",
       "      <th>acidFixa</th>\n",
       "      <th>volatAcidez</th>\n",
       "      <th>acidoCitrico</th>\n",
       "      <th>acucarResid</th>\n",
       "      <th>cloretos</th>\n",
       "      <th>dioxEnxLivre</th>\n",
       "      <th>dioxEnxTot</th>\n",
       "      <th>densidade</th>\n",
       "      <th>pH</th>\n",
       "      <th>sulfatos</th>\n",
       "      <th>alcool</th>\n",
       "      <th>qualidadeAgrup</th>\n",
       "      <th>qualidade</th>\n",
       "    </tr>\n",
       "    <tr>\n",
       "      <th>tipo</th>\n",
       "      <th></th>\n",
       "      <th></th>\n",
       "      <th></th>\n",
       "      <th></th>\n",
       "      <th></th>\n",
       "      <th></th>\n",
       "      <th></th>\n",
       "      <th></th>\n",
       "      <th></th>\n",
       "      <th></th>\n",
       "      <th></th>\n",
       "      <th></th>\n",
       "      <th></th>\n",
       "      <th></th>\n",
       "    </tr>\n",
       "  </thead>\n",
       "  <tbody>\n",
       "    <tr>\n",
       "      <th>Red</th>\n",
       "      <td>1.0</td>\n",
       "      <td>8.312851</td>\n",
       "      <td>0.529040</td>\n",
       "      <td>0.272651</td>\n",
       "      <td>2.521566</td>\n",
       "      <td>0.088169</td>\n",
       "      <td>15.887001</td>\n",
       "      <td>46.724151</td>\n",
       "      <td>1.995159</td>\n",
       "      <td>3.309734</td>\n",
       "      <td>0.658589</td>\n",
       "      <td>10.431352</td>\n",
       "      <td>1.527326</td>\n",
       "      <td>5.621123</td>\n",
       "    </tr>\n",
       "    <tr>\n",
       "      <th>White</th>\n",
       "      <td>2.0</td>\n",
       "      <td>6.843454</td>\n",
       "      <td>0.280513</td>\n",
       "      <td>0.334520</td>\n",
       "      <td>5.921124</td>\n",
       "      <td>0.045921</td>\n",
       "      <td>34.881800</td>\n",
       "      <td>137.212125</td>\n",
       "      <td>1.569457</td>\n",
       "      <td>3.195442</td>\n",
       "      <td>0.490130</td>\n",
       "      <td>10.586634</td>\n",
       "      <td>1.659380</td>\n",
       "      <td>5.854347</td>\n",
       "    </tr>\n",
       "  </tbody>\n",
       "</table>\n",
       "</div>"
      ],
      "text/plain": [
       "       TipoVinho  acidFixa  volatAcidez  acidoCitrico  acucarResid  cloretos  \\\n",
       "tipo                                                                           \n",
       "Red          1.0  8.312851     0.529040      0.272651     2.521566  0.088169   \n",
       "White        2.0  6.843454     0.280513      0.334520     5.921124  0.045921   \n",
       "\n",
       "       dioxEnxLivre  dioxEnxTot  densidade        pH  sulfatos     alcool  \\\n",
       "tipo                                                                        \n",
       "Red       15.887001   46.724151   1.995159  3.309734  0.658589  10.431352   \n",
       "White     34.881800  137.212125   1.569457  3.195442  0.490130  10.586634   \n",
       "\n",
       "       qualidadeAgrup  qualidade  \n",
       "tipo                              \n",
       "Red          1.527326   5.621123  \n",
       "White        1.659380   5.854347  "
      ]
     },
     "execution_count": 22,
     "metadata": {},
     "output_type": "execute_result"
    }
   ],
   "source": [
    "dados_agrup = dados_limpos.groupby('tipo').mean()\n",
    "dados_agrup"
   ]
  },
  {
   "cell_type": "code",
   "execution_count": 23,
   "metadata": {},
   "outputs": [
    {
     "data": {
      "text/plain": [
       "10.431351550960098"
      ]
     },
     "execution_count": 23,
     "metadata": {},
     "output_type": "execute_result"
    }
   ],
   "source": [
    "media_red = dados_agrup['alcool']['Red']\n",
    "media_red"
   ]
  },
  {
   "cell_type": "code",
   "execution_count": 24,
   "metadata": {},
   "outputs": [
    {
     "data": {
      "text/plain": [
       "10.586634468734156"
      ]
     },
     "execution_count": 24,
     "metadata": {},
     "output_type": "execute_result"
    }
   ],
   "source": [
    "media_white = dados_agrup['alcool']['White']\n",
    "media_white"
   ]
  },
  {
   "cell_type": "code",
   "execution_count": 25,
   "metadata": {},
   "outputs": [],
   "source": [
    "dados_novos = dados.replace({'alcool': r'^.*333.333.*$|^.*666.666.*$'}, {'alcool': np.nan}, regex=True)"
   ]
  },
  {
   "cell_type": "code",
   "execution_count": 26,
   "metadata": {},
   "outputs": [],
   "source": [
    "dados_novos['alcool'] = dados_novos['alcool'].astype(float)"
   ]
  },
  {
   "cell_type": "code",
   "execution_count": 27,
   "metadata": {},
   "outputs": [],
   "source": [
    "def trocaNA(tipoVinho, valorCol):\n",
    "    if np.isnan(valorCol) and tipoVinho =='Red':\n",
    "        return media_red\n",
    "    elif np.isnan(valorCol) and tipoVinho =='White':\n",
    "        return media_white\n",
    "    else :\n",
    "        return valorCol"
   ]
  },
  {
   "cell_type": "code",
   "execution_count": 28,
   "metadata": {},
   "outputs": [],
   "source": [
    "dados_novos['alcool'] = dados_novos.apply(lambda x: trocaNA(x['tipo'], x['alcool']), axis=1)"
   ]
  },
  {
   "cell_type": "code",
   "execution_count": 29,
   "metadata": {},
   "outputs": [],
   "source": [
    "dados_novos['qualidade'] = dados_novos['qualidade'].astype(float)"
   ]
  },
  {
   "cell_type": "code",
   "execution_count": 30,
   "metadata": {},
   "outputs": [
    {
     "data": {
      "text/plain": [
       "tipo               object\n",
       "TipoVinho           int64\n",
       "acidFixa          float64\n",
       "volatAcidez       float64\n",
       "acidoCitrico      float64\n",
       "acucarResid       float64\n",
       "cloretos          float64\n",
       "dioxEnxLivre      float64\n",
       "dioxEnxTot        float64\n",
       "densidade         float64\n",
       "pH                float64\n",
       "sulfatos          float64\n",
       "alcool            float64\n",
       "qualidadeAgrup      int64\n",
       "qualidade         float64\n",
       "dtype: object"
      ]
     },
     "execution_count": 30,
     "metadata": {},
     "output_type": "execute_result"
    }
   ],
   "source": [
    "dados_novos.dtypes"
   ]
  },
  {
   "cell_type": "code",
   "execution_count": 31,
   "metadata": {},
   "outputs": [
    {
     "name": "stdout",
     "output_type": "stream",
     "text": [
      "tipo              0\n",
      "TipoVinho         0\n",
      "acidFixa          0\n",
      "volatAcidez       0\n",
      "acidoCitrico      0\n",
      "acucarResid       0\n",
      "cloretos          0\n",
      "dioxEnxLivre      0\n",
      "dioxEnxTot        0\n",
      "densidade         0\n",
      "pH                0\n",
      "sulfatos          0\n",
      "alcool            0\n",
      "qualidadeAgrup    0\n",
      "qualidade         0\n",
      "dtype: int64\n"
     ]
    }
   ],
   "source": [
    "print(dados_novos.isna().sum())"
   ]
  },
  {
   "cell_type": "markdown",
   "metadata": {},
   "source": [
    "### Análise dos dados"
   ]
  },
  {
   "cell_type": "code",
   "execution_count": 32,
   "metadata": {},
   "outputs": [
    {
     "data": {
      "text/html": [
       "<div>\n",
       "<style scoped>\n",
       "    .dataframe tbody tr th:only-of-type {\n",
       "        vertical-align: middle;\n",
       "    }\n",
       "\n",
       "    .dataframe tbody tr th {\n",
       "        vertical-align: top;\n",
       "    }\n",
       "\n",
       "    .dataframe thead th {\n",
       "        text-align: right;\n",
       "    }\n",
       "</style>\n",
       "<table border=\"1\" class=\"dataframe\">\n",
       "  <thead>\n",
       "    <tr style=\"text-align: right;\">\n",
       "      <th></th>\n",
       "      <th>TipoVinho</th>\n",
       "      <th>acidFixa</th>\n",
       "      <th>volatAcidez</th>\n",
       "      <th>acidoCitrico</th>\n",
       "      <th>acucarResid</th>\n",
       "      <th>cloretos</th>\n",
       "      <th>dioxEnxLivre</th>\n",
       "      <th>dioxEnxTot</th>\n",
       "      <th>densidade</th>\n",
       "      <th>pH</th>\n",
       "      <th>sulfatos</th>\n",
       "      <th>qualidadeAgrup</th>\n",
       "      <th>qualidade</th>\n",
       "    </tr>\n",
       "  </thead>\n",
       "  <tbody>\n",
       "    <tr>\n",
       "      <th>count</th>\n",
       "      <td>5320.000000</td>\n",
       "      <td>5320.000000</td>\n",
       "      <td>5320.000000</td>\n",
       "      <td>5320.000000</td>\n",
       "      <td>5320.000000</td>\n",
       "      <td>5320.000000</td>\n",
       "      <td>5320.000000</td>\n",
       "      <td>5320.000000</td>\n",
       "      <td>5320.000000</td>\n",
       "      <td>5320.000000</td>\n",
       "      <td>5320.000000</td>\n",
       "      <td>5320.000000</td>\n",
       "      <td>5320.000000</td>\n",
       "    </tr>\n",
       "    <tr>\n",
       "      <th>mean</th>\n",
       "      <td>1.744549</td>\n",
       "      <td>7.215179</td>\n",
       "      <td>0.344130</td>\n",
       "      <td>0.318494</td>\n",
       "      <td>5.048477</td>\n",
       "      <td>0.056690</td>\n",
       "      <td>30.036654</td>\n",
       "      <td>114.109023</td>\n",
       "      <td>1.674335</td>\n",
       "      <td>3.224664</td>\n",
       "      <td>0.533357</td>\n",
       "      <td>1.626316</td>\n",
       "      <td>5.795677</td>\n",
       "    </tr>\n",
       "    <tr>\n",
       "      <th>std</th>\n",
       "      <td>0.436155</td>\n",
       "      <td>1.319671</td>\n",
       "      <td>0.168248</td>\n",
       "      <td>0.147157</td>\n",
       "      <td>4.500180</td>\n",
       "      <td>0.036863</td>\n",
       "      <td>17.805045</td>\n",
       "      <td>56.774223</td>\n",
       "      <td>7.494908</td>\n",
       "      <td>0.160379</td>\n",
       "      <td>0.149743</td>\n",
       "      <td>0.483827</td>\n",
       "      <td>0.879772</td>\n",
       "    </tr>\n",
       "    <tr>\n",
       "      <th>min</th>\n",
       "      <td>1.000000</td>\n",
       "      <td>3.800000</td>\n",
       "      <td>0.080000</td>\n",
       "      <td>0.000000</td>\n",
       "      <td>0.600000</td>\n",
       "      <td>0.009000</td>\n",
       "      <td>1.000000</td>\n",
       "      <td>6.000000</td>\n",
       "      <td>0.987110</td>\n",
       "      <td>2.720000</td>\n",
       "      <td>0.220000</td>\n",
       "      <td>1.000000</td>\n",
       "      <td>3.000000</td>\n",
       "    </tr>\n",
       "    <tr>\n",
       "      <th>25%</th>\n",
       "      <td>1.000000</td>\n",
       "      <td>6.400000</td>\n",
       "      <td>0.230000</td>\n",
       "      <td>0.240000</td>\n",
       "      <td>1.800000</td>\n",
       "      <td>0.038000</td>\n",
       "      <td>16.000000</td>\n",
       "      <td>74.000000</td>\n",
       "      <td>0.992200</td>\n",
       "      <td>3.110000</td>\n",
       "      <td>0.430000</td>\n",
       "      <td>1.000000</td>\n",
       "      <td>5.000000</td>\n",
       "    </tr>\n",
       "    <tr>\n",
       "      <th>50%</th>\n",
       "      <td>2.000000</td>\n",
       "      <td>7.000000</td>\n",
       "      <td>0.300000</td>\n",
       "      <td>0.310000</td>\n",
       "      <td>2.700000</td>\n",
       "      <td>0.047000</td>\n",
       "      <td>28.000000</td>\n",
       "      <td>116.000000</td>\n",
       "      <td>0.994650</td>\n",
       "      <td>3.210000</td>\n",
       "      <td>0.510000</td>\n",
       "      <td>2.000000</td>\n",
       "      <td>6.000000</td>\n",
       "    </tr>\n",
       "    <tr>\n",
       "      <th>75%</th>\n",
       "      <td>2.000000</td>\n",
       "      <td>7.700000</td>\n",
       "      <td>0.410000</td>\n",
       "      <td>0.400000</td>\n",
       "      <td>7.500000</td>\n",
       "      <td>0.066000</td>\n",
       "      <td>41.000000</td>\n",
       "      <td>153.250000</td>\n",
       "      <td>0.996770</td>\n",
       "      <td>3.330000</td>\n",
       "      <td>0.600000</td>\n",
       "      <td>2.000000</td>\n",
       "      <td>6.000000</td>\n",
       "    </tr>\n",
       "    <tr>\n",
       "      <th>max</th>\n",
       "      <td>2.000000</td>\n",
       "      <td>15.900000</td>\n",
       "      <td>1.580000</td>\n",
       "      <td>1.660000</td>\n",
       "      <td>65.800000</td>\n",
       "      <td>0.611000</td>\n",
       "      <td>289.000000</td>\n",
       "      <td>440.000000</td>\n",
       "      <td>103.898000</td>\n",
       "      <td>4.010000</td>\n",
       "      <td>2.000000</td>\n",
       "      <td>2.000000</td>\n",
       "      <td>9.000000</td>\n",
       "    </tr>\n",
       "  </tbody>\n",
       "</table>\n",
       "</div>"
      ],
      "text/plain": [
       "         TipoVinho     acidFixa  volatAcidez  acidoCitrico  acucarResid  \\\n",
       "count  5320.000000  5320.000000  5320.000000   5320.000000  5320.000000   \n",
       "mean      1.744549     7.215179     0.344130      0.318494     5.048477   \n",
       "std       0.436155     1.319671     0.168248      0.147157     4.500180   \n",
       "min       1.000000     3.800000     0.080000      0.000000     0.600000   \n",
       "25%       1.000000     6.400000     0.230000      0.240000     1.800000   \n",
       "50%       2.000000     7.000000     0.300000      0.310000     2.700000   \n",
       "75%       2.000000     7.700000     0.410000      0.400000     7.500000   \n",
       "max       2.000000    15.900000     1.580000      1.660000    65.800000   \n",
       "\n",
       "          cloretos  dioxEnxLivre   dioxEnxTot    densidade           pH  \\\n",
       "count  5320.000000   5320.000000  5320.000000  5320.000000  5320.000000   \n",
       "mean      0.056690     30.036654   114.109023     1.674335     3.224664   \n",
       "std       0.036863     17.805045    56.774223     7.494908     0.160379   \n",
       "min       0.009000      1.000000     6.000000     0.987110     2.720000   \n",
       "25%       0.038000     16.000000    74.000000     0.992200     3.110000   \n",
       "50%       0.047000     28.000000   116.000000     0.994650     3.210000   \n",
       "75%       0.066000     41.000000   153.250000     0.996770     3.330000   \n",
       "max       0.611000    289.000000   440.000000   103.898000     4.010000   \n",
       "\n",
       "          sulfatos  qualidadeAgrup    qualidade  \n",
       "count  5320.000000     5320.000000  5320.000000  \n",
       "mean      0.533357        1.626316     5.795677  \n",
       "std       0.149743        0.483827     0.879772  \n",
       "min       0.220000        1.000000     3.000000  \n",
       "25%       0.430000        1.000000     5.000000  \n",
       "50%       0.510000        2.000000     6.000000  \n",
       "75%       0.600000        2.000000     6.000000  \n",
       "max       2.000000        2.000000     9.000000  "
      ]
     },
     "execution_count": 32,
     "metadata": {},
     "output_type": "execute_result"
    }
   ],
   "source": [
    "dados.describe()"
   ]
  },
  {
   "cell_type": "code",
   "execution_count": 33,
   "metadata": {},
   "outputs": [
    {
     "data": {
      "image/png": "[encoded data removed]",
      "text/plain": [
       "<Figure size 1440x1080 with 15 Axes>"
      ]
     },
     "metadata": {
      "needs_background": "light"
     },
     "output_type": "display_data"
    }
   ],
   "source": [
    "columns=dados_novos.columns[:15]\n",
    "plt.subplots(figsize=(20,15))\n",
    "length=len(columns)\n",
    "for i,j in zip(columns,range(length)):\n",
    "    plt.subplot((length/2),3,j+1)\n",
    "    plt.subplots_adjust(wspace=0.2,hspace=0.5)\n",
    "    dados_novos[i].hist(bins=20,edgecolor='white')\n",
    "    plt.title(i)\n",
    "plt.show()"
   ]
  },
  {
   "cell_type": "markdown",
   "metadata": {},
   "source": [
    "### Remoção outliers"
   ]
  },
  {
   "cell_type": "code",
   "execution_count": 34,
   "metadata": {},
   "outputs": [],
   "source": [
    "colunas=['acidFixa', 'volatAcidez', 'acidoCitrico', 'acucarResid', 'cloretos', 'dioxEnxLivre', 'dioxEnxTot', 'densidade', 'pH', 'sulfatos']\n",
    "\n",
    "for i in colunas:   \n",
    "    primeiro_quartil = dados_novos[i].describe()['25%']\n",
    "    terceiro_quartil = dados_novos[i].describe()['75%']\n",
    "    variacaoInterQuartil = terceiro_quartil - primeiro_quartil\n",
    "    dados_novos = dados_novos[(dados_novos[i] > (primeiro_quartil - 3 * variacaoInterQuartil)) &\n",
    "                 (dados_novos[i] < (terceiro_quartil + 3 * variacaoInterQuartil))]"
   ]
  },
  {
   "cell_type": "code",
   "execution_count": 35,
   "metadata": {},
   "outputs": [
    {
     "data": {
      "image/png": "[encoded data removed]",
      "text/plain": [
       "<Figure size 1440x1080 with 15 Axes>"
      ]
     },
     "metadata": {
      "needs_background": "light"
     },
     "output_type": "display_data"
    }
   ],
   "source": [
    "columns=dados_novos.columns[:15]\n",
    "plt.subplots(figsize=(20,15))\n",
    "length=len(columns)\n",
    "\n",
    "for i,j in zip(columns,range(length)):\n",
    "    plt.subplot((length/2),3,j+1)\n",
    "    plt.subplots_adjust(wspace=0.2,hspace=0.5)\n",
    "    dados_novos[i].hist(bins=20,edgecolor='white')\n",
    "    plt.title(i)\n",
    "plt.show()"
   ]
  },
  {
   "cell_type": "code",
   "execution_count": 36,
   "metadata": {},
   "outputs": [
    {
     "data": {
      "image/png": "[encoded data removed]",
      "text/plain": [
       "<Figure size 864x720 with 2 Axes>"
      ]
     },
     "metadata": {
      "needs_background": "light"
     },
     "output_type": "display_data"
    }
   ],
   "source": [
    "corr = dados_novos.corr()\n",
    "_ , ax = plt.subplots( figsize =( 12 , 10 ) )\n",
    "cmap = sns.diverging_palette( 200 , 30 , as_cmap = True )\n",
    "_ = sns.heatmap(corr, cmap = cmap, square=True, cbar_kws={ 'shrink' : .9 }, ax=ax, annot = True, annot_kws = {'fontsize' : 12 })"
   ]
  },
  {
   "cell_type": "code",
   "execution_count": 37,
   "metadata": {},
   "outputs": [
    {
     "data": {
      "text/plain": [
       "(4970, 15)"
      ]
     },
     "execution_count": 37,
     "metadata": {},
     "output_type": "execute_result"
    }
   ],
   "source": [
    "dados_novos.shape"
   ]
  },
  {
   "cell_type": "code",
   "execution_count": 38,
   "metadata": {},
   "outputs": [
    {
     "data": {
      "text/html": [
       "<div>\n",
       "<style scoped>\n",
       "    .dataframe tbody tr th:only-of-type {\n",
       "        vertical-align: middle;\n",
       "    }\n",
       "\n",
       "    .dataframe tbody tr th {\n",
       "        vertical-align: top;\n",
       "    }\n",
       "\n",
       "    .dataframe thead th {\n",
       "        text-align: right;\n",
       "    }\n",
       "</style>\n",
       "<table border=\"1\" class=\"dataframe\">\n",
       "  <thead>\n",
       "    <tr style=\"text-align: right;\">\n",
       "      <th></th>\n",
       "      <th>tipo</th>\n",
       "      <th>TipoVinho</th>\n",
       "      <th>acidFixa</th>\n",
       "      <th>volatAcidez</th>\n",
       "      <th>acidoCitrico</th>\n",
       "      <th>acucarResid</th>\n",
       "      <th>cloretos</th>\n",
       "      <th>dioxEnxLivre</th>\n",
       "      <th>dioxEnxTot</th>\n",
       "      <th>densidade</th>\n",
       "      <th>pH</th>\n",
       "      <th>sulfatos</th>\n",
       "      <th>alcool</th>\n",
       "      <th>qualidadeAgrup</th>\n",
       "      <th>qualidade</th>\n",
       "    </tr>\n",
       "  </thead>\n",
       "  <tbody>\n",
       "    <tr>\n",
       "      <th>0</th>\n",
       "      <td>White</td>\n",
       "      <td>2</td>\n",
       "      <td>7.0</td>\n",
       "      <td>0.27</td>\n",
       "      <td>0.36</td>\n",
       "      <td>20.7</td>\n",
       "      <td>0.045</td>\n",
       "      <td>45.0</td>\n",
       "      <td>170.0</td>\n",
       "      <td>1.0010</td>\n",
       "      <td>3.00</td>\n",
       "      <td>0.45</td>\n",
       "      <td>8.8</td>\n",
       "      <td>2</td>\n",
       "      <td>6.0</td>\n",
       "    </tr>\n",
       "    <tr>\n",
       "      <th>1</th>\n",
       "      <td>White</td>\n",
       "      <td>2</td>\n",
       "      <td>6.3</td>\n",
       "      <td>0.30</td>\n",
       "      <td>0.34</td>\n",
       "      <td>1.6</td>\n",
       "      <td>0.049</td>\n",
       "      <td>14.0</td>\n",
       "      <td>132.0</td>\n",
       "      <td>0.9940</td>\n",
       "      <td>3.30</td>\n",
       "      <td>0.49</td>\n",
       "      <td>9.5</td>\n",
       "      <td>2</td>\n",
       "      <td>6.0</td>\n",
       "    </tr>\n",
       "    <tr>\n",
       "      <th>2</th>\n",
       "      <td>White</td>\n",
       "      <td>2</td>\n",
       "      <td>8.1</td>\n",
       "      <td>0.28</td>\n",
       "      <td>0.40</td>\n",
       "      <td>6.9</td>\n",
       "      <td>0.050</td>\n",
       "      <td>30.0</td>\n",
       "      <td>97.0</td>\n",
       "      <td>0.9951</td>\n",
       "      <td>3.26</td>\n",
       "      <td>0.44</td>\n",
       "      <td>10.1</td>\n",
       "      <td>2</td>\n",
       "      <td>6.0</td>\n",
       "    </tr>\n",
       "    <tr>\n",
       "      <th>3</th>\n",
       "      <td>White</td>\n",
       "      <td>2</td>\n",
       "      <td>7.2</td>\n",
       "      <td>0.23</td>\n",
       "      <td>0.32</td>\n",
       "      <td>8.5</td>\n",
       "      <td>0.058</td>\n",
       "      <td>47.0</td>\n",
       "      <td>186.0</td>\n",
       "      <td>0.9956</td>\n",
       "      <td>3.19</td>\n",
       "      <td>0.40</td>\n",
       "      <td>9.9</td>\n",
       "      <td>2</td>\n",
       "      <td>6.0</td>\n",
       "    </tr>\n",
       "    <tr>\n",
       "      <th>6</th>\n",
       "      <td>White</td>\n",
       "      <td>2</td>\n",
       "      <td>6.2</td>\n",
       "      <td>0.32</td>\n",
       "      <td>0.16</td>\n",
       "      <td>7.0</td>\n",
       "      <td>0.045</td>\n",
       "      <td>30.0</td>\n",
       "      <td>136.0</td>\n",
       "      <td>0.9949</td>\n",
       "      <td>3.18</td>\n",
       "      <td>0.47</td>\n",
       "      <td>9.6</td>\n",
       "      <td>2</td>\n",
       "      <td>6.0</td>\n",
       "    </tr>\n",
       "  </tbody>\n",
       "</table>\n",
       "</div>"
      ],
      "text/plain": [
       "    tipo  TipoVinho  acidFixa  volatAcidez  acidoCitrico  acucarResid  \\\n",
       "0  White          2       7.0         0.27          0.36         20.7   \n",
       "1  White          2       6.3         0.30          0.34          1.6   \n",
       "2  White          2       8.1         0.28          0.40          6.9   \n",
       "3  White          2       7.2         0.23          0.32          8.5   \n",
       "6  White          2       6.2         0.32          0.16          7.0   \n",
       "\n",
       "   cloretos  dioxEnxLivre  dioxEnxTot  densidade    pH  sulfatos  alcool  \\\n",
       "0     0.045          45.0       170.0     1.0010  3.00      0.45     8.8   \n",
       "1     0.049          14.0       132.0     0.9940  3.30      0.49     9.5   \n",
       "2     0.050          30.0        97.0     0.9951  3.26      0.44    10.1   \n",
       "3     0.058          47.0       186.0     0.9956  3.19      0.40     9.9   \n",
       "6     0.045          30.0       136.0     0.9949  3.18      0.47     9.6   \n",
       "\n",
       "   qualidadeAgrup  qualidade  \n",
       "0               2        6.0  \n",
       "1               2        6.0  \n",
       "2               2        6.0  \n",
       "3               2        6.0  \n",
       "6               2        6.0  "
      ]
     },
     "execution_count": 38,
     "metadata": {},
     "output_type": "execute_result"
    }
   ],
   "source": [
    "dados_novos.head()"
   ]
  },
  {
   "cell_type": "markdown",
   "metadata": {},
   "source": [
    "### Normalização dos dados"
   ]
  },
  {
   "cell_type": "code",
   "execution_count": 39,
   "metadata": {},
   "outputs": [],
   "source": [
    "dados_norm=dados_novos[dados_novos.columns[1:13]]\n",
    "target=dados_novos['qualidadeAgrup']"
   ]
  },
  {
   "cell_type": "code",
   "execution_count": 40,
   "metadata": {},
   "outputs": [
    {
     "data": {
      "text/html": [
       "<div>\n",
       "<style scoped>\n",
       "    .dataframe tbody tr th:only-of-type {\n",
       "        vertical-align: middle;\n",
       "    }\n",
       "\n",
       "    .dataframe tbody tr th {\n",
       "        vertical-align: top;\n",
       "    }\n",
       "\n",
       "    .dataframe thead th {\n",
       "        text-align: right;\n",
       "    }\n",
       "</style>\n",
       "<table border=\"1\" class=\"dataframe\">\n",
       "  <thead>\n",
       "    <tr style=\"text-align: right;\">\n",
       "      <th></th>\n",
       "      <th>TipoVinho</th>\n",
       "      <th>acidFixa</th>\n",
       "      <th>volatAcidez</th>\n",
       "      <th>acidoCitrico</th>\n",
       "      <th>acucarResid</th>\n",
       "      <th>cloretos</th>\n",
       "      <th>dioxEnxLivre</th>\n",
       "      <th>dioxEnxTot</th>\n",
       "      <th>densidade</th>\n",
       "      <th>pH</th>\n",
       "      <th>sulfatos</th>\n",
       "      <th>alcool</th>\n",
       "    </tr>\n",
       "  </thead>\n",
       "  <tbody>\n",
       "    <tr>\n",
       "      <th>0</th>\n",
       "      <td>1.0</td>\n",
       "      <td>0.415584</td>\n",
       "      <td>0.222222</td>\n",
       "      <td>0.444444</td>\n",
       "      <td>0.913636</td>\n",
       "      <td>0.270677</td>\n",
       "      <td>0.396396</td>\n",
       "      <td>0.485207</td>\n",
       "      <td>1.000000</td>\n",
       "      <td>0.237288</td>\n",
       "      <td>0.261364</td>\n",
       "      <td>0.129032</td>\n",
       "    </tr>\n",
       "    <tr>\n",
       "      <th>1</th>\n",
       "      <td>1.0</td>\n",
       "      <td>0.324675</td>\n",
       "      <td>0.257310</td>\n",
       "      <td>0.419753</td>\n",
       "      <td>0.045455</td>\n",
       "      <td>0.300752</td>\n",
       "      <td>0.117117</td>\n",
       "      <td>0.372781</td>\n",
       "      <td>0.496040</td>\n",
       "      <td>0.491525</td>\n",
       "      <td>0.306818</td>\n",
       "      <td>0.241935</td>\n",
       "    </tr>\n",
       "    <tr>\n",
       "      <th>2</th>\n",
       "      <td>1.0</td>\n",
       "      <td>0.558442</td>\n",
       "      <td>0.233918</td>\n",
       "      <td>0.493827</td>\n",
       "      <td>0.286364</td>\n",
       "      <td>0.308271</td>\n",
       "      <td>0.261261</td>\n",
       "      <td>0.269231</td>\n",
       "      <td>0.575234</td>\n",
       "      <td>0.457627</td>\n",
       "      <td>0.250000</td>\n",
       "      <td>0.338710</td>\n",
       "    </tr>\n",
       "    <tr>\n",
       "      <th>3</th>\n",
       "      <td>1.0</td>\n",
       "      <td>0.441558</td>\n",
       "      <td>0.175439</td>\n",
       "      <td>0.395062</td>\n",
       "      <td>0.359091</td>\n",
       "      <td>0.368421</td>\n",
       "      <td>0.414414</td>\n",
       "      <td>0.532544</td>\n",
       "      <td>0.611231</td>\n",
       "      <td>0.398305</td>\n",
       "      <td>0.204545</td>\n",
       "      <td>0.306452</td>\n",
       "    </tr>\n",
       "    <tr>\n",
       "      <th>6</th>\n",
       "      <td>1.0</td>\n",
       "      <td>0.311688</td>\n",
       "      <td>0.280702</td>\n",
       "      <td>0.197531</td>\n",
       "      <td>0.290909</td>\n",
       "      <td>0.270677</td>\n",
       "      <td>0.261261</td>\n",
       "      <td>0.384615</td>\n",
       "      <td>0.560835</td>\n",
       "      <td>0.389831</td>\n",
       "      <td>0.284091</td>\n",
       "      <td>0.258065</td>\n",
       "    </tr>\n",
       "  </tbody>\n",
       "</table>\n",
       "</div>"
      ],
      "text/plain": [
       "   TipoVinho  acidFixa  volatAcidez  acidoCitrico  acucarResid  cloretos  \\\n",
       "0        1.0  0.415584     0.222222      0.444444     0.913636  0.270677   \n",
       "1        1.0  0.324675     0.257310      0.419753     0.045455  0.300752   \n",
       "2        1.0  0.558442     0.233918      0.493827     0.286364  0.308271   \n",
       "3        1.0  0.441558     0.175439      0.395062     0.359091  0.368421   \n",
       "6        1.0  0.311688     0.280702      0.197531     0.290909  0.270677   \n",
       "\n",
       "   dioxEnxLivre  dioxEnxTot  densidade        pH  sulfatos    alcool  \n",
       "0      0.396396    0.485207   1.000000  0.237288  0.261364  0.129032  \n",
       "1      0.117117    0.372781   0.496040  0.491525  0.306818  0.241935  \n",
       "2      0.261261    0.269231   0.575234  0.457627  0.250000  0.338710  \n",
       "3      0.414414    0.532544   0.611231  0.398305  0.204545  0.306452  \n",
       "6      0.261261    0.384615   0.560835  0.389831  0.284091  0.258065  "
      ]
     },
     "execution_count": 40,
     "metadata": {},
     "output_type": "execute_result"
    }
   ],
   "source": [
    "scaler = MinMaxScaler(feature_range = (0, 1))\n",
    "cols = dados_norm.columns\n",
    "dados_norm[cols] = scaler.fit_transform(dados_norm)\n",
    "dados_norm.head()"
   ]
  },
  {
   "cell_type": "code",
   "execution_count": 41,
   "metadata": {},
   "outputs": [
    {
     "data": {
      "text/plain": [
       "<matplotlib.axes._subplots.AxesSubplot at 0x24ef6ad04a8>"
      ]
     },
     "execution_count": 41,
     "metadata": {},
     "output_type": "execute_result"
    },
    {
     "data": {
      "image/png": "[encoded data removed]",
      "text/plain": [
       "<Figure size 432x288 with 1 Axes>"
      ]
     },
     "metadata": {
      "needs_background": "light"
     },
     "output_type": "display_data"
    }
   ],
   "source": [
    "sns.boxplot(data = dados_norm, orient = \"h\")"
   ]
  },
  {
   "cell_type": "markdown",
   "metadata": {},
   "source": [
    "### Divisão dados Treino/Teste"
   ]
  },
  {
   "cell_type": "code",
   "execution_count": 42,
   "metadata": {},
   "outputs": [],
   "source": [
    "x_train, x_test, y_train, y_test = train_test_split(dados_norm, target, test_size = 0.30, random_state = 78)"
   ]
  },
  {
   "cell_type": "code",
   "execution_count": 43,
   "metadata": {},
   "outputs": [
    {
     "name": "stdout",
     "output_type": "stream",
     "text": [
      "(3479, 12)\n",
      "(1491, 12)\n",
      "(3479,)\n",
      "(1491,)\n"
     ]
    }
   ],
   "source": [
    "print(x_train.shape)\n",
    "print(x_test.shape)\n",
    "print(y_train.shape)\n",
    "print(y_test.shape)"
   ]
  },
  {
   "cell_type": "markdown",
   "metadata": {},
   "source": [
    "### Seleção de variáveis através do Random Forest"
   ]
  },
  {
   "cell_type": "code",
   "execution_count": 44,
   "metadata": {},
   "outputs": [],
   "source": [
    "rf = RandomForestClassifier(n_estimators=100, \n",
    "                             max_depth=6,\n",
    "                             random_state=30)\n",
    "rf.fit(x_train, y_train)\n",
    "rf_predict=rf.predict(x_test)"
   ]
  },
  {
   "cell_type": "code",
   "execution_count": 45,
   "metadata": {},
   "outputs": [
    {
     "name": "stdout",
     "output_type": "stream",
     "text": [
      "Variável mais importante na qualidade do vinho: alcool\n"
     ]
    }
   ],
   "source": [
    "features = [col for col in list(x_train)]\n",
    "importances =  rf.feature_importances_\n",
    "descending_indices = np.argsort(importances)[::-1]\n",
    "sorted_importances = [importances[idx] for idx in descending_indices]\n",
    "sorted_features = [features[idx] for idx in descending_indices]\n",
    "print('Variável mais importante na qualidade do vinho: %s' % sorted_features[0])"
   ]
  },
  {
   "cell_type": "code",
   "execution_count": 46,
   "metadata": {},
   "outputs": [
    {
     "data": {
      "image/png": "[encoded data removed]",
      "text/plain": [
       "<Figure size 720x576 with 1 Axes>"
      ]
     },
     "metadata": {
      "needs_background": "light"
     },
     "output_type": "display_data"
    }
   ],
   "source": [
    "def plot_varImportancia(x_train, sorted_features, sorted_importances):\n",
    "    axis_width = 1.5\n",
    "    maj_tick_len = 6\n",
    "    fontsize = 14\n",
    "    bar_color = 'blue'\n",
    "    align = 'center'\n",
    "    label = '__nolegend__'\n",
    "    ax = plt.bar(range(x_train.shape[1]), sorted_importances, color=bar_color, align=align, label=label)\n",
    "    ax = plt.xticks(range(x_train.shape[1]), sorted_features, rotation=90)\n",
    "    ax = plt.xlim([-1, x_train.shape[1]])\n",
    "    ax = plt.ylabel('Importância Variável', fontsize=fontsize)\n",
    "    ax = plt.tick_params('both', length=maj_tick_len, width=axis_width, which='major', right=True, top=True)\n",
    "    ax = plt.xticks(fontsize=fontsize)\n",
    "    ax = plt.yticks(fontsize=fontsize)\n",
    "    ax = plt.tight_layout()\n",
    "    return ax\n",
    "\n",
    "fig1 = plt.figure(1, figsize=(10,8))\n",
    "\n",
    "ax = plot_varImportancia(x_train, sorted_features, sorted_importances)\n",
    "\n",
    "plt.show()\n",
    "plt.close()"
   ]
  },
  {
   "cell_type": "markdown",
   "metadata": {},
   "source": [
    "### Modelagem com as principais variáveis"
   ]
  },
  {
   "cell_type": "code",
   "execution_count": 47,
   "metadata": {},
   "outputs": [],
   "source": [
    "x_train=x_train[['alcool','volatAcidez','densidade','cloretos','sulfatos','dioxEnxLivre','acidoCitrico','acucarResid', 'dioxEnxTot']]\n",
    "x_test = x_test[['alcool','volatAcidez','densidade','cloretos','sulfatos','dioxEnxLivre','acidoCitrico','acucarResid', 'dioxEnxTot']]"
   ]
  },
  {
   "cell_type": "code",
   "execution_count": 48,
   "metadata": {},
   "outputs": [
    {
     "data": {
      "text/html": [
       "<div>\n",
       "<style scoped>\n",
       "    .dataframe tbody tr th:only-of-type {\n",
       "        vertical-align: middle;\n",
       "    }\n",
       "\n",
       "    .dataframe tbody tr th {\n",
       "        vertical-align: top;\n",
       "    }\n",
       "\n",
       "    .dataframe thead th {\n",
       "        text-align: right;\n",
       "    }\n",
       "</style>\n",
       "<table border=\"1\" class=\"dataframe\">\n",
       "  <thead>\n",
       "    <tr style=\"text-align: right;\">\n",
       "      <th></th>\n",
       "      <th>Acurácia Balanceada</th>\n",
       "    </tr>\n",
       "  </thead>\n",
       "  <tbody>\n",
       "    <tr>\n",
       "      <th>Logistic Regression</th>\n",
       "      <td>0.698615</td>\n",
       "    </tr>\n",
       "    <tr>\n",
       "      <th>KNN</th>\n",
       "      <td>0.687542</td>\n",
       "    </tr>\n",
       "    <tr>\n",
       "      <th>Decision Tree</th>\n",
       "      <td>0.651092</td>\n",
       "    </tr>\n",
       "    <tr>\n",
       "      <th>Naive Bayes</th>\n",
       "      <td>0.670788</td>\n",
       "    </tr>\n",
       "    <tr>\n",
       "      <th>Random Forest</th>\n",
       "      <td>0.712756</td>\n",
       "    </tr>\n",
       "    <tr>\n",
       "      <th>SVC</th>\n",
       "      <td>0.720186</td>\n",
       "    </tr>\n",
       "    <tr>\n",
       "      <th>AdaBoost</th>\n",
       "      <td>0.703692</td>\n",
       "    </tr>\n",
       "    <tr>\n",
       "      <th>Gradient Boosting</th>\n",
       "      <td>0.713603</td>\n",
       "    </tr>\n",
       "    <tr>\n",
       "      <th>XGBoost</th>\n",
       "      <td>0.722313</td>\n",
       "    </tr>\n",
       "  </tbody>\n",
       "</table>\n",
       "</div>"
      ],
      "text/plain": [
       "                     Acurácia Balanceada\n",
       "Logistic Regression             0.698615\n",
       "KNN                             0.687542\n",
       "Decision Tree                   0.651092\n",
       "Naive Bayes                     0.670788\n",
       "Random Forest                   0.712756\n",
       "SVC                             0.720186\n",
       "AdaBoost                        0.703692\n",
       "Gradient Boosting               0.713603\n",
       "XGBoost                         0.722313"
      ]
     },
     "execution_count": 48,
     "metadata": {},
     "output_type": "execute_result"
    }
   ],
   "source": [
    "resumo=[]\n",
    "classifier=['Logistic Regression', 'KNN', 'Decision Tree','Naive Bayes', 'Random Forest', 'SVC', 'AdaBoost', 'Gradient Boosting', 'XGBoost']\n",
    "models=[LogisticRegression(),\n",
    "        KNeighborsClassifier(n_neighbors=3), \n",
    "        DecisionTreeClassifier(random_state=234), \n",
    "        GaussianNB(), \n",
    "        RandomForestClassifier(n_estimators=100, max_depth=6, random_state=30), \n",
    "        SVC(), \n",
    "        AdaBoostClassifier(n_estimators = 30, random_state = 5),\n",
    "        GradientBoostingClassifier(n_estimators = 100, random_state = 89),\n",
    "        XGBClassifier()]\n",
    "\n",
    "for i in models:\n",
    "    model = i\n",
    "    model.fit(x_train,y_train)\n",
    "    prediction=model.predict(x_test)    \n",
    "    resumo.append(balanced_accuracy_score(y_test, prediction))\n",
    "        \n",
    "models_dataframe=pd.DataFrame(resumo,index=classifier)   \n",
    "models_dataframe.columns=['Acurácia Balanceada']\n",
    "models_dataframe"
   ]
  },
  {
   "cell_type": "markdown",
   "metadata": {},
   "source": [
    "### Redução de dimensionalidade PCA"
   ]
  },
  {
   "cell_type": "code",
   "execution_count": 49,
   "metadata": {},
   "outputs": [],
   "source": [
    "pca = PCA()\n",
    "x_pca = pca.fit(dados_norm)"
   ]
  },
  {
   "cell_type": "code",
   "execution_count": 50,
   "metadata": {},
   "outputs": [
    {
     "data": {
      "image/png": "[encoded data removed]",
      "text/plain": [
       "<Figure size 720x720 with 1 Axes>"
      ]
     },
     "metadata": {
      "needs_background": "light"
     },
     "output_type": "display_data"
    }
   ],
   "source": [
    "plt.figure(figsize=(10,10))\n",
    "plt.plot(np.cumsum(pca.explained_variance_ratio_), 'ro-')\n",
    "plt.grid()"
   ]
  },
  {
   "cell_type": "code",
   "execution_count": 51,
   "metadata": {},
   "outputs": [],
   "source": [
    "pca_new = PCA(n_components=8)\n",
    "x_new = pca_new.fit_transform(dados_norm)"
   ]
  },
  {
   "cell_type": "code",
   "execution_count": 52,
   "metadata": {},
   "outputs": [],
   "source": [
    "from sklearn.model_selection import train_test_split\n",
    "x_train, x_test, y_train, y_test = train_test_split(x_new, target, test_size = 0.3, random_state = 12)"
   ]
  },
  {
   "cell_type": "code",
   "execution_count": 53,
   "metadata": {},
   "outputs": [
    {
     "data": {
      "text/html": [
       "<div>\n",
       "<style scoped>\n",
       "    .dataframe tbody tr th:only-of-type {\n",
       "        vertical-align: middle;\n",
       "    }\n",
       "\n",
       "    .dataframe tbody tr th {\n",
       "        vertical-align: top;\n",
       "    }\n",
       "\n",
       "    .dataframe thead th {\n",
       "        text-align: right;\n",
       "    }\n",
       "</style>\n",
       "<table border=\"1\" class=\"dataframe\">\n",
       "  <thead>\n",
       "    <tr style=\"text-align: right;\">\n",
       "      <th></th>\n",
       "      <th>Acurácia Balanceada PCA</th>\n",
       "    </tr>\n",
       "  </thead>\n",
       "  <tbody>\n",
       "    <tr>\n",
       "      <th>Logistic Regression</th>\n",
       "      <td>0.702528</td>\n",
       "    </tr>\n",
       "    <tr>\n",
       "      <th>KNN</th>\n",
       "      <td>0.690374</td>\n",
       "    </tr>\n",
       "    <tr>\n",
       "      <th>Decision Tree</th>\n",
       "      <td>0.656751</td>\n",
       "    </tr>\n",
       "    <tr>\n",
       "      <th>Naive Bayes</th>\n",
       "      <td>0.693760</td>\n",
       "    </tr>\n",
       "    <tr>\n",
       "      <th>Random Forest</th>\n",
       "      <td>0.708604</td>\n",
       "    </tr>\n",
       "    <tr>\n",
       "      <th>SVC</th>\n",
       "      <td>0.726678</td>\n",
       "    </tr>\n",
       "    <tr>\n",
       "      <th>AdaBoost</th>\n",
       "      <td>0.709864</td>\n",
       "    </tr>\n",
       "    <tr>\n",
       "      <th>Gradient Boosting</th>\n",
       "      <td>0.742063</td>\n",
       "    </tr>\n",
       "    <tr>\n",
       "      <th>XGBoost</th>\n",
       "      <td>0.730436</td>\n",
       "    </tr>\n",
       "  </tbody>\n",
       "</table>\n",
       "</div>"
      ],
      "text/plain": [
       "                     Acurácia Balanceada PCA\n",
       "Logistic Regression                 0.702528\n",
       "KNN                                 0.690374\n",
       "Decision Tree                       0.656751\n",
       "Naive Bayes                         0.693760\n",
       "Random Forest                       0.708604\n",
       "SVC                                 0.726678\n",
       "AdaBoost                            0.709864\n",
       "Gradient Boosting                   0.742063\n",
       "XGBoost                             0.730436"
      ]
     },
     "execution_count": 53,
     "metadata": {},
     "output_type": "execute_result"
    }
   ],
   "source": [
    "resumo=[]\n",
    "classifier=['Logistic Regression', 'KNN', 'Decision Tree','Naive Bayes', 'Random Forest', 'SVC','AdaBoost', 'Gradient Boosting', 'XGBoost']\n",
    "models=[LogisticRegression(),\n",
    "        KNeighborsClassifier(n_neighbors=3), \n",
    "        DecisionTreeClassifier(random_state=234), \n",
    "        GaussianNB(), \n",
    "        RandomForestClassifier(n_estimators=100, max_depth=6, random_state=30), \n",
    "        SVC(),\n",
    "        AdaBoostClassifier(n_estimators = 30, random_state = 5),\n",
    "        GradientBoostingClassifier(n_estimators = 100, random_state = 89),\n",
    "        XGBClassifier()]\n",
    "\n",
    "for i in models:\n",
    "    model = i\n",
    "    model.fit(x_train,y_train)\n",
    "    prediction=model.predict(x_test)    \n",
    "    resumo.append(balanced_accuracy_score(y_test, prediction))\n",
    "        \n",
    "models_dataframe=pd.DataFrame(resumo,index=classifier)   \n",
    "models_dataframe.columns=['Acurácia Balanceada PCA']\n",
    "models_dataframe"
   ]
  },
  {
   "cell_type": "markdown",
   "metadata": {},
   "source": [
    "### Cross Validation"
   ]
  },
  {
   "cell_type": "code",
   "execution_count": 54,
   "metadata": {},
   "outputs": [
    {
     "data": {
      "text/html": [
       "<div>\n",
       "<style scoped>\n",
       "    .dataframe tbody tr th:only-of-type {\n",
       "        vertical-align: middle;\n",
       "    }\n",
       "\n",
       "    .dataframe tbody tr th {\n",
       "        vertical-align: top;\n",
       "    }\n",
       "\n",
       "    .dataframe thead th {\n",
       "        text-align: right;\n",
       "    }\n",
       "</style>\n",
       "<table border=\"1\" class=\"dataframe\">\n",
       "  <thead>\n",
       "    <tr style=\"text-align: right;\">\n",
       "      <th></th>\n",
       "      <th>Acurácia CrossValidation</th>\n",
       "    </tr>\n",
       "  </thead>\n",
       "  <tbody>\n",
       "    <tr>\n",
       "      <th>Logistic Regression</th>\n",
       "      <td>0.745672</td>\n",
       "    </tr>\n",
       "    <tr>\n",
       "      <th>KNN</th>\n",
       "      <td>0.727162</td>\n",
       "    </tr>\n",
       "    <tr>\n",
       "      <th>Decision Tree</th>\n",
       "      <td>0.691548</td>\n",
       "    </tr>\n",
       "    <tr>\n",
       "      <th>Naive Bayes</th>\n",
       "      <td>0.695773</td>\n",
       "    </tr>\n",
       "    <tr>\n",
       "      <th>Random Forest</th>\n",
       "      <td>0.760360</td>\n",
       "    </tr>\n",
       "    <tr>\n",
       "      <th>SVC</th>\n",
       "      <td>0.757544</td>\n",
       "    </tr>\n",
       "    <tr>\n",
       "      <th>AdaBoost</th>\n",
       "      <td>0.744867</td>\n",
       "    </tr>\n",
       "    <tr>\n",
       "      <th>Gradient Boosting</th>\n",
       "      <td>0.760561</td>\n",
       "    </tr>\n",
       "    <tr>\n",
       "      <th>XGBoost</th>\n",
       "      <td>0.762171</td>\n",
       "    </tr>\n",
       "  </tbody>\n",
       "</table>\n",
       "</div>"
      ],
      "text/plain": [
       "                     Acurácia CrossValidation\n",
       "Logistic Regression                  0.745672\n",
       "KNN                                  0.727162\n",
       "Decision Tree                        0.691548\n",
       "Naive Bayes                          0.695773\n",
       "Random Forest                        0.760360\n",
       "SVC                                  0.757544\n",
       "AdaBoost                             0.744867\n",
       "Gradient Boosting                    0.760561\n",
       "XGBoost                              0.762171"
      ]
     },
     "execution_count": 54,
     "metadata": {},
     "output_type": "execute_result"
    }
   ],
   "source": [
    "num_folds = 3\n",
    "seed = 89\n",
    "kfold = KFold(num_folds, True, random_state = seed)\n",
    "\n",
    "resumo=[]\n",
    "classifier=['Logistic Regression', 'KNN', 'Decision Tree','Naive Bayes', 'Random Forest', 'SVC', 'AdaBoost', 'Gradient Boosting', 'XGBoost']\n",
    "models=[LogisticRegression(),\n",
    "        KNeighborsClassifier(n_neighbors=3), \n",
    "        DecisionTreeClassifier(random_state=234), \n",
    "        GaussianNB(), \n",
    "        RandomForestClassifier(n_estimators=100, max_depth=6, random_state=30), \n",
    "        SVC(),\n",
    "        AdaBoostClassifier(n_estimators = 30, random_state = 5),\n",
    "        GradientBoostingClassifier(n_estimators = 100, random_state = 89),\n",
    "        XGBClassifier()]\n",
    "\n",
    "for i in models:\n",
    "    modelo = i\n",
    "    resultado = cross_val_score(modelo, dados_norm, target, cv = kfold) \n",
    "    resumo.append(resultado.mean())\n",
    "        \n",
    "models_dataframe=pd.DataFrame(resumo,index=classifier)   \n",
    "models_dataframe.columns=['Acurácia CrossValidation']\n",
    "models_dataframe"
   ]
  },
  {
   "cell_type": "markdown",
   "metadata": {},
   "source": [
    "Por apresentar a melhor acurácia após os processos de feature selection, redução de dimensionalidade e cross validation, o algoritmo XGBoost foi o escolhido."
   ]
  },
  {
   "cell_type": "code",
   "execution_count": null,
   "metadata": {},
   "outputs": [],
   "source": []
  }
 ],
 "metadata": {
  "kernelspec": {
   "display_name": "Python 3",
   "language": "python",
   "name": "python3"
  },
  "language_info": {
   "codemirror_mode": {
    "name": "ipython",
    "version": 3
   },
   "file_extension": ".py",
   "mimetype": "text/x-python",
   "name": "python",
   "nbconvert_exporter": "python",
   "pygments_lexer": "ipython3",
   "version": "3.7.3"
  }
 },
 "nbformat": 4,
 "nbformat_minor": 2
}
